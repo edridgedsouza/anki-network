{
 "cells": [
  {
   "cell_type": "code",
   "execution_count": 1,
   "metadata": {
    "ExecuteTime": {
     "end_time": "2022-06-28T19:42:59.179881Z",
     "start_time": "2022-06-28T19:42:58.796272Z"
    }
   },
   "outputs": [],
   "source": [
    "%matplotlib inline"
   ]
  },
  {
   "cell_type": "code",
   "execution_count": 2,
   "metadata": {
    "ExecuteTime": {
     "end_time": "2022-06-28T19:42:59.529663Z",
     "start_time": "2022-06-28T19:42:59.181709Z"
    }
   },
   "outputs": [],
   "source": [
    "from ankisync2 import Apkg\n",
    "from tqdm import tqdm\n",
    "import re\n",
    "from bs4 import BeautifulSoup\n",
    "import os\n",
    "import itertools\n",
    "import math\n",
    "import sqlite3\n",
    "from contextlib import closing\n",
    "from time import sleep\n",
    "\n",
    "import pandas as pd\n",
    "import scipy as sp\n",
    "import numpy as np"
   ]
  },
  {
   "cell_type": "code",
   "execution_count": 3,
   "metadata": {
    "ExecuteTime": {
     "end_time": "2022-06-28T19:42:59.541383Z",
     "start_time": "2022-06-28T19:42:59.531863Z"
    }
   },
   "outputs": [],
   "source": [
    "class Helpers(object):\n",
    "    def __init__(self):\n",
    "        pass\n",
    "\n",
    "    @staticmethod\n",
    "    def clean_html_tags(markup):\n",
    "        soup = BeautifulSoup(markup, 'html.parser')\n",
    "        for br in soup.find_all('br'):\n",
    "            br.replace_with('\\n')\n",
    "        return soup.get_text()\n",
    "\n",
    "    @staticmethod\n",
    "    def get_images(markup):\n",
    "        out = []\n",
    "        if markup:\n",
    "            soup = BeautifulSoup(markup, 'html.parser')\n",
    "            images = soup.findAll('img')\n",
    "            for image in images:\n",
    "                out.append(image['src'])\n",
    "        return out\n",
    "\n",
    "    @staticmethod\n",
    "    def remove_cloze(markup):\n",
    "        # txt = '<a href=\"blah\"> Hello {{c1::world}} once {{c2::again::hint}} lol </a>'\n",
    "        return re.sub('{{.*?::(.*?)(::.*?){0,}}}', '\\\\1', markup)\n",
    "\n",
    "    @staticmethod\n",
    "    def telescope_tags(taglist):\n",
    "        out = []\n",
    "        for tag in taglist:\n",
    "            splt = tag.lower().split('::')\n",
    "            for i in range(1, len(splt)):\n",
    "                out.append('::'.join(splt[0:i]))\n",
    "        return set(out)\n",
    "\n",
    "    @staticmethod\n",
    "    def jaccard_similarity(list1, list2):\n",
    "        s1 = set(list1)\n",
    "        s2 = set(list2)\n",
    "        try:\n",
    "            jaccard = float(len(s1.intersection(s2)) / len(s1.union(s2)))\n",
    "        except ZeroDivisionError:\n",
    "            jaccard = 0\n",
    "        return jaccard\n",
    "    \n",
    "    @staticmethod\n",
    "    def intersection_size(list1, list2):\n",
    "        s1 = set(list1)\n",
    "        s2 = set(list2)\n",
    "        return len(s1.intersection(s2))\n",
    "    \n",
    "    @staticmethod\n",
    "    def mirror_matrix(coo_mat):\n",
    "        coo = coo_mat.copy()\n",
    "        l = coo.shape[0]\n",
    "        w = coo.shape[1]\n",
    "        assert l == w, 'Matrix must be square'\n",
    "        for i in tqdm(range(l), 'Mirroring matrix'):\n",
    "            for j in range(l):\n",
    "                ij = tmp[i, j]\n",
    "                ji = tmp[j, i]\n",
    "                if ij != ji:\n",
    "                    if ij == 0:\n",
    "                        coo[i,j] = ji\n",
    "                    elif ji == 0:\n",
    "                        coo[j,i] = ij\n",
    "                    else:\n",
    "                        raise ValueError(f'At i={i} and j={j} there are conflicting values of {ij} and {ji}.')\n",
    "        return coo"
   ]
  },
  {
   "cell_type": "code",
   "execution_count": 4,
   "metadata": {
    "ExecuteTime": {
     "end_time": "2022-06-28T19:42:59.561988Z",
     "start_time": "2022-06-28T19:42:59.543317Z"
    }
   },
   "outputs": [],
   "source": [
    "class SQL(object):\n",
    "    DELAY = 0.5  # Just for display purposes\n",
    "\n",
    "    def __init__(self, path):\n",
    "        self.path = path\n",
    "\n",
    "    def init_sql(self):\n",
    "        print(f'Creating new storage db at {self.path}')\n",
    "        conn = sqlite3.connect(self.path)\n",
    "        cursor = conn.cursor()\n",
    "        for tbl in ['cards', 'tags', 'images', 'tag_image_sim',\n",
    "                    'note_image_sim', 'note_tag_sim', 'note_text_sim', 'note_overall_sim',\n",
    "                    'tag_sim', 'image_sim']:\n",
    "            cursor.execute(f'DROP TABLE IF EXISTS {tbl}')\n",
    "\n",
    "        cursor.execute('CREATE TABLE cards (card_id integer);')\n",
    "        cursor.execute('CREATE TABLE tags (tag string);')\n",
    "        cursor.execute('CREATE TABLE images (image string);')\n",
    "        cursor.execute('CREATE INDEX cards_idx ON cards (card_id);')\n",
    "        cursor.execute('CREATE INDEX tags_idx ON tags (tag);')\n",
    "        cursor.execute('CREATE INDEX images_idx ON images (image);')\n",
    "\n",
    "        cursor.execute('''\n",
    "                       CREATE TABLE tag_image_sim\n",
    "                       (tag string, \n",
    "                       image string,\n",
    "                       value real,\n",
    "                       \n",
    "                       FOREIGN KEY (tag) REFERENCES tags (tag) ON DELETE CASCADE,\n",
    "                       FOREIGN KEY (image) REFERENCES images (image) ON DELETE CASCADE);\n",
    "                       ''')\n",
    "        cursor.execute(\n",
    "            'CREATE INDEX tag_image_sim_idx ON tag_image_sim (tag, image);')\n",
    "        cursor.execute('''\n",
    "                       CREATE TABLE note_image_sim\n",
    "                       (card_a integer, \n",
    "                       card_b integer,\n",
    "                       value real,\n",
    "                       \n",
    "                       FOREIGN KEY (card_a) REFERENCES cards (card_id) ON DELETE CASCADE,\n",
    "                       FOREIGN KEY (card_b) REFERENCES cards (card_id) ON DELETE CASCADE);\n",
    "                       ''')\n",
    "        cursor.execute(\n",
    "            'CREATE INDEX note_image_sim_idx ON note_image_sim (card_a, card_b);')\n",
    "        cursor.execute('''\n",
    "                       CREATE TABLE note_tag_sim\n",
    "                       (card_a integer, \n",
    "                       card_b integer,\n",
    "                       value real,\n",
    "                       \n",
    "                       FOREIGN KEY (card_a) REFERENCES cards (card_id) ON DELETE CASCADE,\n",
    "                       FOREIGN KEY (card_b) REFERENCES cards (card_id) ON DELETE CASCADE);\n",
    "                       ''')\n",
    "        cursor.execute(\n",
    "            'CREATE INDEX note_tag_sim_idx ON note_tag_sim (card_a, card_b);')\n",
    "        cursor.execute('''\n",
    "                       CREATE TABLE note_text_sim\n",
    "                       (card_a integer, \n",
    "                       card_b integer,\n",
    "                       value real,\n",
    "                       \n",
    "                       FOREIGN KEY (card_a) REFERENCES cards (card_id) ON DELETE CASCADE,\n",
    "                       FOREIGN KEY (card_b) REFERENCES cards (card_id) ON DELETE CASCADE);\n",
    "                       ''')\n",
    "        cursor.execute(\n",
    "            'CREATE INDEX note_text_sim_idx ON note_text_sim (card_a, card_b);')\n",
    "        cursor.execute('''\n",
    "                       CREATE TABLE note_overall_sim\n",
    "                       (card_a integer, \n",
    "                       card_b integer,\n",
    "                       value real,\n",
    "                       \n",
    "                       FOREIGN KEY (card_a) REFERENCES cards (card_id) ON DELETE CASCADE,\n",
    "                       FOREIGN KEY (card_b) REFERENCES cards (card_id) ON DELETE CASCADE);\n",
    "                       ''')\n",
    "        cursor.execute(\n",
    "            'CREATE INDEX note_overall_sim_idx ON note_overall_sim (card_a, card_b);')\n",
    "        cursor.execute('''\n",
    "                       CREATE TABLE tag_sim\n",
    "                       (tag_a string, \n",
    "                       tag_b string,\n",
    "                       value real,\n",
    "                       \n",
    "                       FOREIGN KEY (tag_a) REFERENCES tags (tag) ON DELETE CASCADE,\n",
    "                       FOREIGN KEY (tag_b) REFERENCES tags (tag) ON DELETE CASCADE);\n",
    "                       ''')\n",
    "        cursor.execute('CREATE INDEX tag_sim_idx ON tag_sim (tag_a, tag_b);')\n",
    "        cursor.execute('''\n",
    "                       CREATE TABLE image_sim\n",
    "                       (image_a string, \n",
    "                       image_b string,\n",
    "                       value real,\n",
    "                       \n",
    "                       FOREIGN KEY (image_a) REFERENCES images (image) ON DELETE CASCADE,\n",
    "                       FOREIGN KEY (image_b) REFERENCES images (image) ON DELETE CASCADE);\n",
    "                       ''')\n",
    "        cursor.execute(\n",
    "            'CREATE INDEX image_sim_idx ON image_sim (image_a, image_b);')\n",
    "        conn.commit()\n",
    "        conn.close()\n",
    "\n",
    "    def execute(self, sql, params=()):\n",
    "        with closing(sqlite3.connect(self.path)) as conn:\n",
    "            with conn:\n",
    "                cur = conn.cursor()\n",
    "                try:\n",
    "                    sleep(self.DELAY)\n",
    "                    cur.execute(sql, params)\n",
    "                    res = cur.fetchall()\n",
    "                except sqlite3.ProgrammingError:\n",
    "                    print(f'SQL:\\n{sql}\\n{params}')\n",
    "\n",
    "                if res:\n",
    "                    df = pd.DataFrame(res)\n",
    "                    df.columns = [d[0] for d in cur.description]\n",
    "                else:\n",
    "                    df = pd.DataFrame({})\n",
    "                conn.commit()\n",
    "        return df\n",
    "\n",
    "    def insert_vals(self, sql, param_list):\n",
    "        with closing(sqlite3.connect(self.path)) as conn:\n",
    "            with conn:\n",
    "                cur = conn.cursor()\n",
    "                try:\n",
    "                    sleep(self.DELAY)\n",
    "                    \n",
    "                    # Accept a list of tuples, or list of bare values\n",
    "                    if isinstance(list(param_list)[0], tuple):\n",
    "                        cur.executemany(sql, param_list)\n",
    "                    else:\n",
    "                        param_list = [(param,) for param in param_list]\n",
    "                        cur.executemany(sql, param_list)\n",
    "                    \n",
    "#                     for params in tqdm(param_list, 'Serializing', position=0, leave=True):\n",
    "#                         if isinstance(params, int) or isinstance(params, str):\n",
    "#                             cur.execute(sql, (params,))\n",
    "#                         else:\n",
    "#                             cur.execute(sql, params)\n",
    "                    \n",
    "                    res = cur.fetchall()\n",
    "                except:\n",
    "                    print(f'SQL:\\n{sql}\\n{param_list}')\n",
    "                    res = None\n",
    "\n",
    "                if res:\n",
    "                    df = pd.DataFrame(res)\n",
    "                    df.columns = [d[0] for d in cur.description]\n",
    "                else:\n",
    "                    df = pd.DataFrame({})\n",
    "                conn.commit()\n",
    "        return df\n"
   ]
  },
  {
   "cell_type": "code",
   "execution_count": 5,
   "metadata": {
    "ExecuteTime": {
     "end_time": "2022-06-28T19:42:59.595562Z",
     "start_time": "2022-06-28T19:42:59.564770Z"
    }
   },
   "outputs": [],
   "source": [
    "class Anki(object):\n",
    "    THRESHOLD = 0.15  # Only record similarity values above threshold\n",
    "    PARTIAL = None  # Only look at first n entries\n",
    "    COMPARISON_FUNC = Helpers.intersection_size  # Originally jaccard but that gave iffy results\n",
    "\n",
    "    def __init__(self, file, overwrite=True, read=True, PARTIAL=None):\n",
    "        self.file = os.path.abspath(file)\n",
    "        self.sql = SQL(f'{self.file}.sql')\n",
    "        self.PARTIAL = PARTIAL\n",
    "\n",
    "        self.db = []\n",
    "\n",
    "        self.all_cards = set()\n",
    "        self.all_tags = set()\n",
    "        self.all_imgs = set()\n",
    "        self.n_cards = 0\n",
    "        self.n_tags = 0\n",
    "        self.n_imgs = 0\n",
    "\n",
    "        self.note_sim = {'images': [], 'tags': [], 'text': [], 'overall': []}\n",
    "        self.image_sim = {}\n",
    "        self.tag_sim = {}\n",
    "\n",
    "        if overwrite:\n",
    "            self.sql.init_sql()\n",
    "\n",
    "        if read:\n",
    "            self.read_file()\n",
    "\n",
    "    def read_file(self):\n",
    "        with Apkg(self.file) as apkg:\n",
    "            for ct, card in enumerate(tqdm(apkg, f'Reading `{self.file}`: ',\n",
    "                             total=sum(1 for _ in apkg),\n",
    "                             position=0, leave=True)):\n",
    "\n",
    "                if self.PARTIAL:\n",
    "                    if ct > self.PARTIAL:\n",
    "                        print(ct)\n",
    "                        break\n",
    "                        \n",
    "                note = card['note']\n",
    "                content = dict(zip(note['model']['flds'], note['flds']))\n",
    "\n",
    "                # Extracting images\n",
    "                images = []\n",
    "                for field in ['Text', 'Extra', 'Image', 'Lecture Notes',\n",
    "                              'Missed Questions', 'Pathoma', 'Boards and Beyond',\n",
    "                              'First Aid', 'Sketchy', 'Pixorize', 'Physeo',\n",
    "                              'Additional Resources']:\n",
    "                    imgs = Helpers.get_images(content.get(field))\n",
    "                    if imgs:\n",
    "                        images += imgs\n",
    "\n",
    "                # Regularizing the 'Text' and 'Extra' fields\n",
    "                if 'Text' in content.keys():\n",
    "                    text = Helpers.clean_html_tags(\n",
    "                        Helpers.remove_cloze(content['Text']))\n",
    "                else:\n",
    "                    try:\n",
    "                        text = clean_html_tags(content['Header'])\n",
    "                    except:\n",
    "                        # A few of the in-house psych cards used a weird format\n",
    "                        # Honestly just gonna skip\n",
    "                        continue\n",
    "\n",
    "                if 'Extra' in content.keys():\n",
    "                    extra = Helpers.clean_html_tags(content['Extra'])\n",
    "                else:\n",
    "                    extra = ''\n",
    "\n",
    "                out = {}\n",
    "                out['id'] = note['id']\n",
    "                out['data'] = f'{text} \\n {extra}'\n",
    "                out['images'] = set(images)\n",
    "                out['tags'] = Helpers.telescope_tags(note['tags'])\n",
    "\n",
    "                self.db.append(out)\n",
    "\n",
    "        self.all_cards = set(card['id'] for card in self.db)\n",
    "        self.all_tags = set(tag for taglist in [card['tags']\n",
    "                                                for card in self.db]\n",
    "                            for tag in taglist)\n",
    "        self.all_imgs = set(img for imglist in [card['images']\n",
    "                                                for card in self.db]\n",
    "                            for img in imglist)\n",
    "        self.calculate_n()\n",
    "        self.serialize_sets()\n",
    "\n",
    "#     def compute_note_similarity(self):\n",
    "#         self.note_image_similarity()\n",
    "#         self.note_tag_similarity()\n",
    "#         self.note_text_similarity()\n",
    "#         self.note_overall_similarity()\n",
    "\n",
    "    def calculate_n(self):\n",
    "        self.n_tags = len(self.all_tags)\n",
    "        self.n_cards = len(self.db)\n",
    "        self.n_imgs = len(self.all_imgs)\n",
    "\n",
    "    def serialize_sets(self):\n",
    "        print('Serializing total set of card IDs, images, and tags')\n",
    "        self.sql.insert_vals(f'''\n",
    "                              INSERT INTO cards (card_id)\n",
    "                              VALUES (?)\n",
    "                              ''', self.all_cards)\n",
    "        self.sql.insert_vals(f'''\n",
    "                              INSERT INTO tags (tag)\n",
    "                              VALUES (?)\n",
    "                              ''', self.all_tags)\n",
    "        self.sql.insert_vals(f'''\n",
    "                              INSERT INTO images (image)\n",
    "                              VALUES (?)\n",
    "                              ''', self.all_imgs)\n",
    "\n",
    "    def note_image_similarity(self):\n",
    "        res = self.note_list_similarity('images')\n",
    "        return res\n",
    "\n",
    "    def note_tag_similarity(self):\n",
    "        res = self.note_list_similarity('tags')\n",
    "        return res\n",
    "\n",
    "    def note_text_similarity(self):\n",
    "        pass  # TODO\n",
    "\n",
    "    def note_overall_similarity(self):\n",
    "        pass  # TODO\n",
    "        \n",
    "\n",
    "    def note_list_similarity(self, list_type):\n",
    "        assert list_type.lower() in ['images', 'tags']\n",
    "        res = []\n",
    "        represented = []\n",
    "\n",
    "        pairs = itertools.combinations_with_replacement(self.db, 2)\n",
    "        combos = self.n_cards * (self.n_cards + 1) / 2  # One half of n-length square, including the diagonals\n",
    "        n = self.n_cards\n",
    "\n",
    "        for pair in tqdm(pairs, f'Calculating similarity of cards by their {list_type}: ',\n",
    "                         total=combos, position=0, leave=True):\n",
    "            sim = Anki.COMPARISON_FUNC(\n",
    "                pair[0][list_type], pair[1][list_type])\n",
    "            if sim > self.THRESHOLD:\n",
    "                card1_id = pair[0]['id']\n",
    "                card2_id = pair[1]['id']\n",
    "                res.append((card1_id, card2_id, sim))\n",
    "                if card1_id not in represented:\n",
    "                    represented.append(card1_id)\n",
    "                if card2_id not in represented:\n",
    "                    represented.append(card2_id)\n",
    "\n",
    "        print(f'{n} cards total. {len(represented)} cards represented in matrix '\n",
    "              f'({100*len(represented)/n:.2f}%). '\n",
    "              f'At theshold {self.THRESHOLD}, storing {len(res)} of {combos} combos '\n",
    "              f'of {list_type} ({100*(1-len(res)/combos):.2f}% reduction)')\n",
    "\n",
    "        tbl = list_type[:-1]\n",
    "        print(f'Serializing results into table note_{tbl}_sim')\n",
    "        self.serialize_note_similarity(tbl, res)\n",
    "        return res\n",
    "    \n",
    "    def tag_image_similarity(self):    \n",
    "        tag_ids = {}\n",
    "        img_ids = {}\n",
    "        for card in tqdm(self.db, 'Finding similarity between tags and images.'):\n",
    "            tags = card['tags']\n",
    "            imgs = card['images']\n",
    "            \n",
    "            for tag in tags:\n",
    "                if tag not in tag_ids.keys():\n",
    "                    tag_ids[tag] = []\n",
    "                tag_ids[tag].append(card['id'])\n",
    "            for img in imgs:\n",
    "                if img not in img_ids.keys():\n",
    "                    img_ids[img] = []\n",
    "                img_ids[img].append(card['id'])\n",
    "                    \n",
    "        out = []\n",
    "        tags_represented = set()\n",
    "        imgs_represented = set()\n",
    "        combos_represented = set()\n",
    "        theoretical_combos = self.n_tags * self.n_imgs\n",
    "        actual_combos = len(tag_ids.keys()) * len(img_ids.keys())\n",
    "         \n",
    "        for tag, img in tqdm(itertools.product(tag_ids.keys(), img_ids.keys()),\n",
    "                            'Calculating tag-image combos. ',\n",
    "                            total=actual_combos ,position=0, leave=True):\n",
    "            sim = Anki.COMPARISON_FUNC(tag_ids[tag], img_ids[img])\n",
    "            if sim > self.THRESHOLD:  # Threshold of 0 takes care of about 97.5% of data\n",
    "                out.append((tag, img, sim))\n",
    "                tags_represented.add(tag)\n",
    "                imgs_represented.add(img)\n",
    "                combos_represented.add(f'{tag}\\t{img}')\n",
    "                    \n",
    "        print(f'{len(tags_represented)} of {self.n_tags} tags represented '\n",
    "              f'({100*len(tags_represented)/self.n_tags:.2f}%). '\n",
    "              f'{len(imgs_represented)} of {self.n_imgs} images represented '\n",
    "              f'({100*len(imgs_represented)/self.n_imgs:.2f}%). '\n",
    "              f'{len(combos_represented)} of {theoretical_combos} theoretical combos represented '\n",
    "              f'({100*len(combos_represented)/theoretical_combos:.2f}%). '\n",
    "              f'{len(combos_represented)} of {actual_combos} actual combos represented '\n",
    "              f'({100*len(combos_represented)/actual_combos:.2f}%). ')\n",
    "        \n",
    "        self.sql.insert_vals(f'''\n",
    "                              INSERT INTO tag_image_sim (tag, image, value)\n",
    "                              VALUES (?, ?, ?)\n",
    "                              ''', out)\n",
    "    \n",
    "        return out\n",
    "    \n",
    "    def tag_similarity(self):\n",
    "        res = {}\n",
    "        for card in tqdm(self.db, f'Calculating similarity of tags: ',\n",
    "                         total=self.n_cards, position=0, leave=True):\n",
    "            tag_lst = sorted(card['tags'])\n",
    "            n_tag_lst = len(tag_lst)\n",
    "            combos = n_tag_lst * (n_tag_lst + 1) / 2\n",
    "            \n",
    "            for tag_pair in itertools.combinations_with_replacement(tag_lst, 2):\n",
    "                key = f'{tag_pair[0]}\\t{tag_pair[1]}'\n",
    "                if key not in res.keys():\n",
    "                    res[key] = [[],[]]\n",
    "                \n",
    "                \n",
    "                res[key][0].append(card['id'])\n",
    "                res[key][1].append(card['id'])\n",
    "                \n",
    "        out = []\n",
    "        represented = set()\n",
    "        for tag_pair, id_lists in tqdm(res.items(), 'Reducing tag list to similarity metric: ',\n",
    "                                      total = len(res), position=0, leave=True):\n",
    "            splt = tag_pair.split('\\t')\n",
    "            tag1 = splt[0]\n",
    "            tag2 = splt[1]\n",
    "            sim = Anki.COMPARISON_FUNC(*id_lists)\n",
    "            \n",
    "            if sim != 0:\n",
    "                out.append((tag1, tag2, sim))\n",
    "                if tag1 not in represented:\n",
    "                    represented.add(tag1)\n",
    "                if tag2 not in represented:\n",
    "                    represented.add(tag2)\n",
    "                    \n",
    "        print(f'{self.n_tags} tags total. {len(represented)} tags represented in matrix '\n",
    "              f'({100*len(represented)/self.n_tags:.2f}%). '\n",
    "              f'Storing {len(out)} nonzero values of {len(res)} tag combos '\n",
    "              f'({100*(1-len(out)/len(res)):.2f}% reduction).')\n",
    "        print('Serializing tag similarity')\n",
    "        self.sql.insert_vals(f'''\n",
    "                              INSERT INTO tag_sim (tag_a, tag_b, value)\n",
    "                              VALUES (?, ?, ?)\n",
    "                              ''', out)\n",
    "        \n",
    "    def image_similarity(self):\n",
    "        res = {}\n",
    "        for card in tqdm(self.db, f'Calculating similarity of images: ',\n",
    "                         total=self.n_cards, position=0, leave=True):\n",
    "            img_lst = sorted(card['images'])\n",
    "            n_img_lst = len(img_lst)\n",
    "            combos = n_img_lst * (n_img_lst + 1) / 2\n",
    "            \n",
    "            for img_pair in itertools.combinations_with_replacement(img_lst, 2):\n",
    "                key = f'{img_pair[0]}\\t{img_pair[1]}'\n",
    "                if key not in res.keys():\n",
    "                    res[key] = [[],[]]\n",
    "                \n",
    "                res[key][0].append(card['id'])\n",
    "                res[key][1].append(card['id'])\n",
    "                \n",
    "        out = []\n",
    "        represented = set()\n",
    "        for img_pair, id_lists in tqdm(res.items(), 'Reducing image list to similarity metric: ',\n",
    "                                      total = len(res), position=0, leave=True):\n",
    "            splt = img_pair.split('\\t')\n",
    "            img1 = splt[0]\n",
    "            img2 = splt[1]\n",
    "            sim = Anki.COMPARISON_FUNC(*id_lists)\n",
    "            \n",
    "            if sim != 0:\n",
    "                out.append((img1, img2, sim))\n",
    "                if img1 not in represented:\n",
    "                    represented.add(img1)\n",
    "                if img2 not in represented:\n",
    "                    represented.add(img2)\n",
    "                    \n",
    "        print(f'{self.n_imgs} images total. {len(represented)} images represented in matrix '\n",
    "              f'({100*len(represented)/self.n_imgs:.2f}%). '\n",
    "              f'Storing {len(out)} nonzero values of {len(res)} tag combos '\n",
    "              f'({100*(1-len(out)/len(res)):.2f}% reduction).')\n",
    "        print('Serializing image similarity')\n",
    "        self.sql.insert_vals(f'''\n",
    "                              INSERT INTO image_sim (image_a, image_b, value)\n",
    "                              VALUES (?, ?, ?)\n",
    "                              ''', out)\n",
    "\n",
    "    def serialize_note_similarity(self, table, params):\n",
    "        self.sql.insert_vals(f'''\n",
    "                              INSERT INTO note_{table}_sim (card_a, card_b, value)\n",
    "                              VALUES (?, ?, ?)\n",
    "                              ''', params)\n",
    "\n",
    "    def load_from_db(self):\n",
    "        print(f'Loading from database {self.sql.path}')\n",
    "\n",
    "        self.all_cards = set(self.sql.execute('SELECT * FROM cards')['card_id'])\n",
    "        self.all_tags = set(self.sql.execute('SELECT * FROM tags')['tag'])\n",
    "        self.all_imgs = set(self.sql.execute('SELECT * FROM images')['image'])\n",
    "        self.calculate_n()\n",
    "\n",
    "        self.note_sim['images'] = self.sql.execute(\n",
    "            'SELECT * from note_image_sim;')\n",
    "        self.note_sim['tags'] = self.sql.execute('SELECT * from note_tag_sim;')\n",
    "        self.note_sim['text'] = self.sql.execute(\n",
    "            'SELECT * from note_text_sim;')\n",
    "        self.note_sim['overall'] = self.sql.execute(\n",
    "            'SELECT * from note_overall_sim;')\n",
    "        self.tag_sim = self.sql.execute('SELECT * from tag_sim;')\n",
    "        self.image_sim = self.sql.execute('SELECT * from image_sim;')\n",
    "\n",
    "    def set_threshold(self, threshold=0.15):\n",
    "        self.THRESHOLD = threshold\n",
    "        \n",
    "\n",
    "# TODO: Calculate similarity based on text. combine all the whitespace? Handle punctuation?\n",
    "# TODO: Calculate network fusion\n",
    "\n",
    "# TODO: https://pyvis.readthedocs.io/en/latest/tutorial.html\n",
    "# https://stackoverflow.com/questions/38726087/python-plot-heatmap-for-large-matrix"
   ]
  },
  {
   "cell_type": "code",
   "execution_count": 6,
   "metadata": {
    "ExecuteTime": {
     "end_time": "2022-06-28T19:42:59.606593Z",
     "start_time": "2022-06-28T19:42:59.598512Z"
    }
   },
   "outputs": [],
   "source": [
    "file = 'Selected Notes.apkg' # Selected Notes.apkg or Subset.apkg"
   ]
  },
  {
   "cell_type": "code",
   "execution_count": 8,
   "metadata": {
    "ExecuteTime": {
     "end_time": "2022-06-28T19:49:31.819658Z",
     "start_time": "2022-06-28T19:43:16.409940Z"
    },
    "scrolled": false
   },
   "outputs": [
    {
     "name": "stdout",
     "output_type": "stream",
     "text": [
      "Creating new storage db at /mnt/c/Users/edrid.EDRIDGE-DSOUZA-/Documents/GitHub/anki-network/Selected Notes.apkg.sql\n"
     ]
    },
    {
     "name": "stderr",
     "output_type": "stream",
     "text": [
      "Reading `/mnt/c/Users/edrid.EDRIDGE-DSOUZA-/Documents/GitHub/anki-network/Selected Notes.apkg`: 100%|██████████| 17052/17052 [00:29<00:00, 580.92it/s] \n"
     ]
    },
    {
     "name": "stdout",
     "output_type": "stream",
     "text": [
      "Serializing total set of card IDs, images, and tags\n"
     ]
    },
    {
     "name": "stderr",
     "output_type": "stream",
     "text": [
      "Calculating similarity of cards by their images: 100%|██████████| 137672121/137672121.0 [03:35<00:00, 637707.68it/s] \n"
     ]
    },
    {
     "name": "stdout",
     "output_type": "stream",
     "text": [
      "16593 cards total. 10310 cards represented in matrix (62.13%). At theshold 0.001, storing 385688 of 137672121.0 combos of images (99.72% reduction)\n",
      "Serializing results into table note_image_sim\n"
     ]
    },
    {
     "name": "stderr",
     "output_type": "stream",
     "text": [
      "Finding similarity between tags and images.: 100%|██████████| 16593/16593 [00:00<00:00, 165953.11it/s]\n",
      "Calculating tag-image combos. : 100%|██████████| 9477494/9477494 [01:40<00:00, 94143.44it/s] \n"
     ]
    },
    {
     "name": "stdout",
     "output_type": "stream",
     "text": [
      "757 of 761 tags represented (99.47%). 12454 of 12454 images represented (100.00%). 233122 of 9477494 theoretical combos represented (2.46%). 233122 of 9477494 actual combos represented (2.46%). \n"
     ]
    },
    {
     "name": "stderr",
     "output_type": "stream",
     "text": [
      "Calculating similarity of tags: 100%|██████████| 16593/16593 [00:02<00:00, 7669.86it/s]\n",
      "Reducing tag list to similarity metric: 100%|██████████| 36952/36952 [00:00<00:00, 84125.31it/s]\n"
     ]
    },
    {
     "name": "stdout",
     "output_type": "stream",
     "text": [
      "761 tags total. 761 tags represented in matrix (100.00%). Storing 36952 nonzero values of 36952 tag combos (0.00% reduction).\n",
      "Serializing tag similarity\n"
     ]
    },
    {
     "name": "stderr",
     "output_type": "stream",
     "text": [
      "Calculating similarity of images: 100%|██████████| 16593/16593 [00:00<00:00, 46288.03it/s]\n",
      "Reducing image list to similarity metric: 100%|██████████| 58889/58889 [00:00<00:00, 240584.62it/s]\n"
     ]
    },
    {
     "name": "stdout",
     "output_type": "stream",
     "text": [
      "12454 images total. 12454 images represented in matrix (100.00%). Storing 58889 nonzero values of 58889 tag combos (0.00% reduction).\n",
      "Serializing image similarity\n"
     ]
    }
   ],
   "source": [
    "x = Anki(file, overwrite=True)\n",
    "\n",
    "x.set_threshold(0.001)  # Record nonzero similarity\n",
    "x.note_image_similarity()\n",
    "x.tag_image_similarity()\n",
    "\n",
    "x.set_threshold(5)  # Only record similarity if a tag shares 10+ notes. Real distribution prob more valuable if > 5\n",
    "x.note_tag_similarity()\n",
    "\n",
    "# x.note_text_similarity()\n",
    "# x.note_overall_similarity()\n",
    "x.tag_similarity()\n",
    "x.image_similarity()\n"
   ]
  },
  {
   "cell_type": "code",
   "execution_count": 9,
   "metadata": {
    "ExecuteTime": {
     "end_time": "2022-06-28T19:52:25.013496Z",
     "start_time": "2022-06-28T19:52:24.960304Z"
    }
   },
   "outputs": [
    {
     "name": "stdout",
     "output_type": "stream",
     "text": [
      "Done\n"
     ]
    }
   ],
   "source": [
    "# Reload the file and ensure the proper info was saved to the db\n",
    "x = Anki(file, overwrite=False, read=False)\n",
    "# x.load_from_db()  # TODO: FIX HOW SLOW THIS IS??\n",
    "print('Done')"
   ]
  },
  {
   "cell_type": "code",
   "execution_count": null,
   "metadata": {
    "ExecuteTime": {
     "end_time": "2022-06-28T19:42:59.617417Z",
     "start_time": "2022-06-28T19:42:47.197Z"
    }
   },
   "outputs": [],
   "source": [
    "# Doc2Vec for similarity scores:\n",
    "# https://medium.com/red-buffer/doc2vec-computing-similarity-between-the-documents-47daf6c828cd\n",
    "# https://stackoverflow.com/questions/53503049/measure-similarity-between-two-documents-using-doc2vec\n",
    "# https://github.com/jhlau/doc2vec#pre-trained-doc2vec-models\n",
    "\n",
    "# https://github.com/rmarkello/snfpy to fuse similarity networks\n",
    "# https://github.com/maxconway/SNFtool has more visualization options\n",
    "# sklearn to do general network stuff\n",
    "# https://towardsdatascience.com/visualising-similarity-clusters-with-interactive-graphs-20a4b2a18534"
   ]
  },
  {
   "cell_type": "code",
   "execution_count": null,
   "metadata": {
    "ExecuteTime": {
     "end_time": "2022-06-28T19:42:59.618501Z",
     "start_time": "2022-06-28T19:42:47.198Z"
    }
   },
   "outputs": [],
   "source": [
    "# tag-tag heatmap\n",
    "\n",
    "import seaborn as sns\n",
    "from matplotlib.colors import LogNorm, Normalize, PowerNorm\n",
    "from scipy.sparse import coo_matrix\n",
    "\n",
    "all_tags = list(x.sql.execute('select * from tags')['tag'])\n",
    "n_tags = len(all_tags)\n",
    "\n",
    "sim = x.sql.execute('select * from tag_sim').copy()\n",
    "sim.tag_a = sim.tag_a.map(lambda tag: all_tags.index(tag))\n",
    "sim.tag_b = sim.tag_b.map(lambda tag: all_tags.index(tag))\n",
    "\n",
    "\n",
    "# https://docs.scipy.org/doc/scipy/reference/generated/scipy.sparse.dok_array.html#scipy.sparse.dok_array\n",
    "\n",
    "tmp = coo_matrix((sim.value, (sim.tag_a, sim.tag_b)), shape=(n_tags, n_tags)).toarray()\n",
    "tmp = Helpers.mirror_matrix(tmp)\n",
    "\n",
    "sns.clustermap(tmp + 0.0001, norm=LogNorm())"
   ]
  },
  {
   "cell_type": "code",
   "execution_count": 30,
   "metadata": {
    "ExecuteTime": {
     "end_time": "2022-06-28T20:33:04.528459Z",
     "start_time": "2022-06-28T20:31:33.224015Z"
    }
   },
   "outputs": [
    {
     "name": "stdout",
     "output_type": "stream",
     "text": [
      "Plotting\n"
     ]
    },
    {
     "name": "stderr",
     "output_type": "stream",
     "text": [
      "/home/edsouza/anaconda3/lib/python3.7/site-packages/seaborn/matrix.py:284: MatplotlibDeprecationWarning: Passing parameters norm and vmin/vmax simultaneously is deprecated since 3.3 and will become an error two minor releases later. Please pass vmin/vmax directly to the norm when creating it.\n",
      "  cmap=self.cmap, **kws)\n"
     ]
    },
    {
     "data": {
      "text/plain": [
       "<seaborn.matrix.ClusterGrid at 0x7f86d1aed320>"
      ]
     },
     "execution_count": 30,
     "metadata": {},
     "output_type": "execute_result"
    },
    {
     "data": {
      "image/png": "[encoded data removed]",
      "text/plain": [
       "<Figure size 1440x720 with 4 Axes>"
      ]
     },
     "metadata": {
      "needs_background": "light"
     },
     "output_type": "display_data"
    }
   ],
   "source": [
    "# tag-image heatmap\n",
    "\n",
    "from matplotlib.colors import LogNorm, Normalize\n",
    "import seaborn as sns\n",
    "from scipy.sparse import coo_matrix\n",
    "\n",
    "all_tags = list(x.sql.execute('select * from tags')['tag'])\n",
    "n_tags = len(all_tags)\n",
    "all_images = list(x.sql.execute('select * from images')['image'])\n",
    "n_imgs = len(all_images)\n",
    "\n",
    "sim = x.sql.execute('select * from tag_image_sim').copy()\n",
    "sim.tag = sim.tag.map(lambda tag: all_tags.index(tag))\n",
    "sim.image = sim.image.map(lambda img: all_images.index(img))\n",
    "\n",
    "tmp = coo_matrix((sim.value, (sim.tag, sim.image)), shape=(n_tags, n_imgs)).toarray()\n",
    "print('Plotting')\n",
    "sns.clustermap(tmp + 0.0001, norm=LogNorm(), figsize=(20, 10))\n",
    "\n",
    "# Todo: discard rows with < 1% usage?"
   ]
  },
  {
   "cell_type": "code",
   "execution_count": null,
   "metadata": {
    "ExecuteTime": {
     "end_time": "2022-06-28T19:42:59.619890Z",
     "start_time": "2022-06-28T19:42:47.199Z"
    }
   },
   "outputs": [],
   "source": [
    "# image-image heatmap\n",
    "\n",
    "from matplotlib.colors import LogNorm, Normalize\n",
    "import seaborn as sns\n",
    "\n",
    "all_images = list(x.sql.execute('select * from images')['image'])\n",
    "n_imgs = len(all_images)\n",
    "sim = x.sql.execute('select * from image_sim').copy()\n",
    "sim.image_a = sim.image_a.map(lambda img: all_images.index(img))\n",
    "sim.image_b = sim.image_b.map(lambda img: all_images.index(img))\n",
    "\n",
    "\n",
    "from scipy.sparse import coo_matrix\n",
    "\n",
    "tmp = coo_matrix((sim.value, (sim.image_a, sim.image_b)), shape=(n_imgs, n_imgs)).toarray()\n",
    "tmp = Helpers.mirror_matrix(tmp)\n",
    "\n",
    "sns.clustermap(tmp + 1,norm=LogNorm())"
   ]
  },
  {
   "cell_type": "code",
   "execution_count": null,
   "metadata": {
    "ExecuteTime": {
     "end_time": "2022-06-28T19:42:59.620389Z",
     "start_time": "2022-06-28T19:42:47.200Z"
    }
   },
   "outputs": [],
   "source": [
    "# https://stackoverflow.com/questions/71154948/how-can-i-create-network-graph-from-dataframe\n",
    "\n",
    "import networkx as nx\n",
    "G = nx.from_numpy_matrix(tmp)\n",
    "nx.draw_spring(G)"
   ]
  },
  {
   "cell_type": "code",
   "execution_count": null,
   "metadata": {
    "ExecuteTime": {
     "end_time": "2022-06-28T19:42:59.621453Z",
     "start_time": "2022-06-28T19:42:47.201Z"
    }
   },
   "outputs": [],
   "source": [
    "from gensim.models import doc2vec\n",
    "from scipy import spatial\n",
    "\n",
    "d2v_model = doc2vec.Doc2Vec.load(model_file)\n",
    "\n",
    "fisrt_text = '..'\n",
    "second_text = '..'\n",
    "\n",
    "vec1 = d2v_model.infer_vector(fisrt_text.split())\n",
    "vec2 = d2v_model.infer_vector(second_text.split())\n",
    "\n",
    "cos_distance = spatial.distance.cosine(vec1, vec2)\n",
    "# cos_distance indicates how much the two texts differ from each other:\n",
    "# higher values mean more distant (i.e. different) texts"
   ]
  }
 ],
 "metadata": {
  "kernelspec": {
   "display_name": "Python 3",
   "language": "python",
   "name": "python3"
  },
  "language_info": {
   "codemirror_mode": {
    "name": "ipython",
    "version": 3
   },
   "file_extension": ".py",
   "mimetype": "text/x-python",
   "name": "python",
   "nbconvert_exporter": "python",
   "pygments_lexer": "ipython3",
   "version": "3.7.0"
  },
  "varInspector": {
   "cols": {
    "lenName": 16,
    "lenType": 16,
    "lenVar": 40
   },
   "kernels_config": {
    "python": {
     "delete_cmd_postfix": "",
     "delete_cmd_prefix": "del ",
     "library": "var_list.py",
     "varRefreshCmd": "print(var_dic_list())"
    },
    "r": {
     "delete_cmd_postfix": ") ",
     "delete_cmd_prefix": "rm(",
     "library": "var_list.r",
     "varRefreshCmd": "cat(var_dic_list()) "
    }
   },
   "types_to_exclude": [
    "module",
    "function",
    "builtin_function_or_method",
    "instance",
    "_Feature"
   ],
   "window_display": false
  },
  "vscode": {
   "interpreter": {
    "hash": "916dbcbb3f70747c44a77c7bcd40155683ae19c65e1c03b4aa3499c5328201f1"
   }
  }
 },
 "nbformat": 4,
 "nbformat_minor": 2
}
