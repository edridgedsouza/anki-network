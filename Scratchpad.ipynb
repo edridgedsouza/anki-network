{
 "cells": [
  {
   "cell_type": "code",
   "execution_count": 2,
   "metadata": {},
   "outputs": [],
   "source": [
    "from ankisync2 import Apkg\n",
    "from tqdm import tqdm\n",
    "import re\n",
    "# https://github.com/rmarkello/snfpy to fuse similarity networks\n",
    "# https://github.com/maxconway/SNFtool has more visualization options\n",
    "# sklearn to do general network stuff\n",
    "from bs4 import BeautifulSoup\n",
    "import scipy as sp\n",
    "import numpy as np"
   ]
  },
  {
   "cell_type": "code",
   "execution_count": 52,
   "metadata": {},
   "outputs": [],
   "source": [
    "class Anki(object):\n",
    "    def __init__(self, file):\n",
    "        self.file = file\n",
    "        self.res = []\n",
    "        \n",
    "    def process(self):\n",
    "        self.read_file()\n",
    "        # self.compute_similarity()\n",
    "        \n",
    "    def read_file(self):\n",
    "        with Apkg(self.file) as apkg:\n",
    "            for card in tqdm(apkg, f'Analyzing `{self.file}`: ', \n",
    "                             total=sum(1 for _ in apkg), \n",
    "                             position=0, leave=True):\n",
    "\n",
    "                note = card['note']\n",
    "                content = dict(zip(note['model']['flds'], note['flds']))\n",
    "\n",
    "                # Extracting images\n",
    "                images = []\n",
    "                for field in ['Text', 'Extra', 'Image', 'Lecture Notes', \n",
    "                              'Missed Questions', 'Pathoma', 'Boards and Beyond', \n",
    "                              'First Aid', 'Sketchy', 'Pixorize', 'Physeo', \n",
    "                              'Additional Resources']:\n",
    "                    imgs = Anki.get_images(content.get(field))\n",
    "                    if imgs:\n",
    "                        images += imgs\n",
    "\n",
    "                # Regularizing the 'Text' and 'Extra' fields\n",
    "                if 'Text' in content.keys():\n",
    "                    text = Anki.clean_html_tags(Anki.remove_cloze(content['Text']))\n",
    "                else:\n",
    "                    try:\n",
    "                        text = clean_html_tags(content['Header'])\n",
    "                    except:\n",
    "                        # A few of the in-house psych cards used a weird format\n",
    "                        # Honestly just gonna skip\n",
    "                        continue\n",
    "                        \n",
    "                if 'Extra' in content.keys():\n",
    "                    extra = Anki.clean_html_tags(content['Extra'])\n",
    "                else:\n",
    "                    extra = ''\n",
    "\n",
    "                out = {}\n",
    "                out['id'] = note['id']\n",
    "                out['data'] = f'{text} \\n {extra}'\n",
    "                out['images'] = list(set(images))\n",
    "                out['tags'] = Anki.telescope_tags(note['tags'])\n",
    "\n",
    "                self.res.append(out)\n",
    "                \n",
    "    def note_list_similarity(self, list_type, THRESHOLD=0.15):\n",
    "        assert list_type.lower() in ['images', 'tags']\n",
    "        nCards = len(self.res)\n",
    "        res = []\n",
    "\n",
    "        pairs = itertools.permutations(self.res, 2)\n",
    "        perms = int(math.factorial(nCards)/math.factorial(nCards-2))\n",
    "        \n",
    "        for pair in tqdm(pairs, total = perms, position=0, leave=True):\n",
    "            sim = Anki.jaccard_similarity(pair[0][list_type], pair[1][list_type])\n",
    "            if sim > THRESH:\n",
    "                res.append([pair[0]['id'], pair[1]['id'], sim])\n",
    "\n",
    "        print(f'At theshold {THRESHOLD}, stored {len(res)} of {perms} combos '\n",
    "              f'of {list_type} ({100*(1-len(res)/perms):.2f}% reduction)')\n",
    "        \n",
    "        return res\n",
    "\n",
    "    def note_image_similarity(self, THRESHOLD=0.15):\n",
    "        res = self.note_list_similarity('images', THRESHOLD)\n",
    "        self.note_image_similarity_vals = res\n",
    "    \n",
    "    def note_tag_similarity(self, THRESHOLD=0.15):\n",
    "        res = self.note_list_similarity('tags', THRESHOLD)\n",
    "        self.note_tag_similarity_vals = res\n",
    "    \n",
    "    def note_text_similarity(self):\n",
    "        pass\n",
    "    \n",
    "    def note_overall_similarity(self):\n",
    "        pass\n",
    "\n",
    "    @staticmethod\n",
    "    def clean_html_tags(markup):\n",
    "        soup = BeautifulSoup(markup, 'html.parser')\n",
    "        for br in soup.find_all('br'):\n",
    "            br.replace_with('\\n')\n",
    "        return soup.get_text()\n",
    "\n",
    "    @staticmethod\n",
    "    def get_images(markup):\n",
    "        out = []\n",
    "        if markup:\n",
    "            soup = BeautifulSoup(markup, 'html.parser')\n",
    "            images = soup.findAll('img')\n",
    "            for image in images:\n",
    "                out.append(image['src'])  \n",
    "        return out\n",
    "\n",
    "    @staticmethod\n",
    "    def remove_cloze(markup):\n",
    "        # txt = '<a href=\"blah\"> Hello {{c1::world}} once {{c2::again::hint}} lol </a>'\n",
    "        return re.sub('{{.*?::(.*?)(::.*?){0,}}}', '\\\\1', markup)\n",
    "    \n",
    "    @staticmethod\n",
    "    def telescope_tags(taglist):\n",
    "        out = []\n",
    "        for tag in taglist:\n",
    "            splt = tag.lower().split('::')\n",
    "            for i in range(1, len(splt)):\n",
    "                out.append('::'.join(splt[0:i]))\n",
    "        return list(set(out))\n",
    "\n",
    "    @staticmethod\n",
    "    def jaccard_similarity(list1, list2):\n",
    "        s1 = set(list1)\n",
    "        s2 = set(list2)\n",
    "        try:\n",
    "            jaccard = float(len(s1.intersection(s2)) / len(s1.union(s2)))\n",
    "        except ZeroDivisionError:\n",
    "            jaccard = 0\n",
    "        return jaccard\n",
    "\n",
    "# https://stackoverflow.com/questions/36345324/how-calculate-list-python-into-matrix-similarity\n",
    "# TODO: Calculate similarity based on text\n",
    "# TODO: Calculate network fusion\n",
    "\n",
    "# TODO: combine all the whitespace?\n",
    "# TODO: similarity of tags/images rather than notes (easier to compute: simply count how many notes any 2 tags have in common)"
   ]
  },
  {
   "cell_type": "code",
   "execution_count": null,
   "metadata": {},
   "outputs": [
    {
     "name": "stderr",
     "output_type": "stream",
     "text": [
      "Analyzing `Selected Notes.apkg`: 100%|██████████| 17052/17052 [00:25<00:00, 673.61it/s] \n",
      " 53%|█████▎    | 145960766/275311056 [05:00<03:51, 559318.55it/s]"
     ]
    }
   ],
   "source": [
    "x = Anki(\"Selected Notes.apkg\")\n",
    "x.process()\n",
    "x.note_image_similarity()\n",
    "x.note_tag_similarity()"
   ]
  },
  {
   "cell_type": "code",
   "execution_count": 22,
   "metadata": {},
   "outputs": [
    {
     "name": "stderr",
     "output_type": "stream",
     "text": [
      "100%|██████████| 997002/997002 [00:02<00:00, 492033.01it/s]"
     ]
    },
    {
     "name": "stdout",
     "output_type": "stream",
     "text": [
      "At theshold 0.15, stored 105666 of 997002 combos (89.40% reduction)\n"
     ]
    },
    {
     "name": "stderr",
     "output_type": "stream",
     "text": [
      "\n"
     ]
    }
   ],
   "source": [
    "# https://docs.scipy.org/doc/scipy/reference/generated/scipy.spatial.distance.squareform.html#scipy.spatial.distance.squareform\n",
    "# https://medium.com/neo4j/building-a-similarity-graph-with-neo4js-approximate-nearest-neighbors-algorithm-1398583b280b\n",
    "\n",
    "import math\n",
    "import itertools\n",
    "\n",
    "# Generate pairwise distances\n",
    "nCards = len(x.res)\n",
    "\n",
    "res = []\n",
    "THRESH = 0.15\n",
    "\n",
    "pairs = itertools.permutations(x.res, 2)\n",
    "perms = int(math.factorial(nCards)/math.factorial(nCards-2))\n",
    "for pair in tqdm(pairs, total = perms, position=0, leave=True):\n",
    "    sim = Anki.jaccard_similarity(pair[0]['tags'], pair[1]['tags'])\n",
    "    if sim > THRESH:\n",
    "        res.append([pair[0]['id'], pair[1]['id'], sim])\n",
    "    \n",
    "print(f'At theshold {THRESH}, stored {len(res)} of {perms} combos ({100*(1-len(res)/perms):.2f}% reduction)')\n",
    "    "
   ]
  },
  {
   "cell_type": "code",
   "execution_count": 20,
   "metadata": {},
   "outputs": [],
   "source": [
    "%matplotlib inline"
   ]
  },
  {
   "cell_type": "code",
   "execution_count": 48,
   "metadata": {},
   "outputs": [
    {
     "data": {
      "text/plain": [
       "{'id': 1461884807843,\n",
       " 'data': 'Hypovolemia or volume contraction is another potent stimulus for ADH secretion\\n \\n sensed by baroreceptors; information transmitted through the vagus nerve to the hypothalamus',\n",
       " 'images': ['Screen Shot 2019-11-17 at 6.45.09 PM.png',\n",
       "  'zOverall_1566160514431.jpg',\n",
       "  'tmpObYyEp.png',\n",
       "  'paste-436192583614686.jpg',\n",
       "  'Hypovolemia - ADH secretion_1566160514431.jpg',\n",
       "  'tmpgYfLu_.png'],\n",
       " 'tags': ['zz::cardio',\n",
       "  '#ak_step1_v9::#b&b::19_renal',\n",
       "  '#ak_step1_v9::#b&b::08_endocrinology',\n",
       "  '#ak_step1_v9::#firstaid',\n",
       "  '#ak_step1_v9::#b&b::08_endocrinology::05_other',\n",
       "  '#ak_step1_v9::#sketchypath::04_renal::06_volume,_electrolyte_&_acid/base_disorders',\n",
       "  '#ak_step1_v9::#firstaid::08_endocrine::03_physiology::03_antidiuretic_hormone',\n",
       "  '#ak_step1_v9::endocrine',\n",
       "  '#ak_step1_v9::#sketchypath',\n",
       "  '#ak_step1_v9::#firstaid::08_endocrine::03_physiology',\n",
       "  'zz::renal',\n",
       "  '#ak_step1_v9::#b&b',\n",
       "  'zz::neuro',\n",
       "  '#ak_step1_v9',\n",
       "  '#ak_step1_v9::#uworld',\n",
       "  'zz',\n",
       "  '#ak_step1_v9::#sketchypath::07_endocrine::01_hypothalamic_&_pituitary_disorders',\n",
       "  '#ak_step1_v9::#firstaid::08_endocrine',\n",
       "  '#ak_step1_v9::#b&b::19_renal::01_intro',\n",
       "  '#ak_step1_v9::#b&b::19_renal::03_electrolytes',\n",
       "  '#ak_step1_v9::#costanzo::endocrine',\n",
       "  '#ak_step1_v9::#sketchypath::04_renal',\n",
       "  '#ak_step1_v9::#costanzo',\n",
       "  '#ak_step1_v9::#sketchypath::07_endocrine']}"
      ]
     },
     "execution_count": 48,
     "metadata": {},
     "output_type": "execute_result"
    }
   ],
   "source": [
    "x.res[100]"
   ]
  }
 ],
 "metadata": {
  "kernelspec": {
   "display_name": "Python 3",
   "language": "python",
   "name": "python3"
  },
  "language_info": {
   "codemirror_mode": {
    "name": "ipython",
    "version": 3
   },
   "file_extension": ".py",
   "mimetype": "text/x-python",
   "name": "python",
   "nbconvert_exporter": "python",
   "pygments_lexer": "ipython3",
   "version": "3.7.0"
  }
 },
 "nbformat": 4,
 "nbformat_minor": 2
}
